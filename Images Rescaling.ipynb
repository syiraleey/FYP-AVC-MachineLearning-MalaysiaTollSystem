{
  "nbformat": 4,
  "nbformat_minor": 0,
  "metadata": {
    "colab": {
      "provenance": []
    },
    "kernelspec": {
      "name": "python3",
      "display_name": "Python 3"
    },
    "language_info": {
      "name": "python"
    }
  },
  "cells": [
    {
      "cell_type": "code",
      "execution_count": null,
      "metadata": {
        "colab": {
          "base_uri": "https://localhost:8080/"
        },
        "id": "WxvPttAt8bph",
        "outputId": "8a5e1e08-e734-481c-b6b2-d27062f54503"
      },
      "outputs": [
        {
          "output_type": "stream",
          "name": "stdout",
          "text": [
            "/content\n",
            "Mounted at /content/drive\n",
            "/content/drive/MyDrive\n",
            "Extracted zip file testori.zip\n"
          ]
        }
      ],
      "source": [
        "%cd /content\n",
        "\n",
        "import os\n",
        "import shutil\n",
        "from zipfile import ZipFile\n",
        "from google.colab import drive\n",
        "\n",
        "# Mount Google Drive\n",
        "drive.mount('/content/drive')\n",
        "\n",
        "# Enter the folder containing the zip file\n",
        "%cd /content/drive/MyDrive\n",
        "\n",
        "# Specify the zip file name\n",
        "filename = 'testori.zip'\n",
        "\n",
        "# Extract the zip file to /content\n",
        "ds = ZipFile(filename)\n",
        "ds.extractall('/content')\n",
        "ds.close()\n",
        "\n",
        "# Remove the zip file from the drive\n",
        "#os.remove(filename)\n",
        "print('Extracted zip file ' + filename)"
      ]
    },
    {
      "cell_type": "code",
      "source": [
        "import os\n",
        "import shutil\n",
        "from zipfile import ZipFile\n",
        "from google.colab import drive\n",
        "\n",
        "# Mount Google Drive\n",
        "drive.mount('/content/drive')"
      ],
      "metadata": {
        "colab": {
          "base_uri": "https://localhost:8080/"
        },
        "id": "Uv_MLNdzbuDL",
        "outputId": "7d0bd810-1c8d-434e-875b-5e848b278ecc"
      },
      "execution_count": null,
      "outputs": [
        {
          "output_type": "stream",
          "name": "stdout",
          "text": [
            "Mounted at /content/drive\n"
          ]
        }
      ]
    },
    {
      "cell_type": "code",
      "source": [
        "import os\n",
        "import cv2\n",
        "import numpy as np\n",
        "from google.colab import files\n",
        "\n",
        "def rescale_image(image, target_size):\n",
        "    # Get the original dimensions of the image\n",
        "    (h, w) = image.shape[:2]\n",
        "\n",
        "    # Resize the image to the target size while maintaining the aspect ratio\n",
        "    (target_w, target_h) = target_size\n",
        "    ratio = min(target_w / w, target_h / h)\n",
        "    new_dimensions = (int(w * ratio), int(h * ratio))\n",
        "    resized_image = cv2.resize(image, new_dimensions, interpolation=cv2.INTER_AREA)\n",
        "\n",
        "    # Create a black canvas of the target size\n",
        "    canvas = np.zeros((target_h, target_w, 3), dtype=np.uint8)\n",
        "\n",
        "    # Compute the padding needed to center the resized image on the canvas\n",
        "    pad_x = (target_w - new_dimensions[0]) // 2\n",
        "    pad_y = (target_h - new_dimensions[1]) // 2\n",
        "\n",
        "    # Paste the resized image onto the canvas\n",
        "    canvas[pad_y:pad_y + new_dimensions[1], pad_x:pad_x + new_dimensions[0]] = resized_image\n",
        "\n",
        "    return canvas\n",
        "\n",
        "def rescale_images_in_folder(folder_path, target_size):\n",
        "    output_folder = \"/content/drive/MyDrive/RescaledImages/VehicleDatasets/new/car13\"\n",
        "    os.makedirs(output_folder, exist_ok=True)\n",
        "\n",
        "    # Iterate over the images in the folder\n",
        "    for filename in os.listdir(folder_path):\n",
        "        if filename.endswith(\".jpg\"):\n",
        "            # Load the image\n",
        "            image_path = os.path.join(folder_path, filename)\n",
        "            image = cv2.imread(image_path)\n",
        "\n",
        "            # Rescale the image\n",
        "            rescaled_image = rescale_image(image, target_size)\n",
        "\n",
        "            # Save the rescaled image\n",
        "            output_path = os.path.join(output_folder, filename)\n",
        "            cv2.imwrite(output_path, rescaled_image)\n",
        "\n",
        "    # Zip the rescaled images folder\n",
        "    zip_path = \"/content/drive/MyDrive/RescaledImages/VehicleDatasets/new/car13.zip\"\n",
        "    !zip -r {zip_path} {output_folder}\n",
        "\n",
        "    # Download the zipped file\n",
        "    files.download(zip_path)\n",
        "\n",
        "# Define the target size\n",
        "target_size = (800, 600)\n",
        "\n",
        "# Rescale images in the folder and download them\n",
        "rescale_images_in_folder(\"/content/drive/MyDrive/RescaledImages/VehicleDatasets/new\", target_size)\n"
      ],
      "metadata": {
        "colab": {
          "base_uri": "https://localhost:8080/",
          "height": 54
        },
        "id": "iKwmwaAJ9_Kz",
        "outputId": "d9514494-fa48-4a00-9758-772b378e5aeb"
      },
      "execution_count": null,
      "outputs": [
        {
          "output_type": "stream",
          "name": "stdout",
          "text": [
            "  adding: content/drive/MyDrive/RescaledImages/VehicleDatasets/new/car13/ (stored 0%)\n",
            "  adding: content/drive/MyDrive/RescaledImages/VehicleDatasets/new/car13/addcar13.jpg (deflated 0%)\n"
          ]
        },
        {
          "output_type": "display_data",
          "data": {
            "text/plain": [
              "<IPython.core.display.Javascript object>"
            ],
            "application/javascript": [
              "\n",
              "    async function download(id, filename, size) {\n",
              "      if (!google.colab.kernel.accessAllowed) {\n",
              "        return;\n",
              "      }\n",
              "      const div = document.createElement('div');\n",
              "      const label = document.createElement('label');\n",
              "      label.textContent = `Downloading \"${filename}\": `;\n",
              "      div.appendChild(label);\n",
              "      const progress = document.createElement('progress');\n",
              "      progress.max = size;\n",
              "      div.appendChild(progress);\n",
              "      document.body.appendChild(div);\n",
              "\n",
              "      const buffers = [];\n",
              "      let downloaded = 0;\n",
              "\n",
              "      const channel = await google.colab.kernel.comms.open(id);\n",
              "      // Send a message to notify the kernel that we're ready.\n",
              "      channel.send({})\n",
              "\n",
              "      for await (const message of channel.messages) {\n",
              "        // Send a message to notify the kernel that we're ready.\n",
              "        channel.send({})\n",
              "        if (message.buffers) {\n",
              "          for (const buffer of message.buffers) {\n",
              "            buffers.push(buffer);\n",
              "            downloaded += buffer.byteLength;\n",
              "            progress.value = downloaded;\n",
              "          }\n",
              "        }\n",
              "      }\n",
              "      const blob = new Blob(buffers, {type: 'application/binary'});\n",
              "      const a = document.createElement('a');\n",
              "      a.href = window.URL.createObjectURL(blob);\n",
              "      a.download = filename;\n",
              "      div.appendChild(a);\n",
              "      a.click();\n",
              "      div.remove();\n",
              "    }\n",
              "  "
            ]
          },
          "metadata": {}
        },
        {
          "output_type": "display_data",
          "data": {
            "text/plain": [
              "<IPython.core.display.Javascript object>"
            ],
            "application/javascript": [
              "download(\"download_fbc9bb34-1882-4cf9-a344-4d1838cb4025\", \"car13.zip\", 168630)"
            ]
          },
          "metadata": {}
        }
      ]
    },
    {
      "cell_type": "code",
      "source": [
        "# Define the target size\n",
        "target_size = (800, 600)\n",
        "\n",
        "def rescale_image(image, target_size):\n",
        "    # Get the original dimensions of the image\n",
        "    (h, w) = image.shape[:2]\n",
        "\n",
        "    # Resize the image to the target size while maintaining the aspect ratio\n",
        "    (target_w, target_h) = target_size\n",
        "    ratio = min(target_w / w, target_h / h)\n",
        "    new_dimensions = (int(w * ratio), int(h * ratio))\n",
        "    resized_image = cv2.resize(image, new_dimensions, interpolation=cv2.INTER_AREA)\n",
        "\n",
        "    # Create a black canvas of the target size\n",
        "    canvas = np.zeros((target_h, target_w, 3), dtype=np.uint8)\n",
        "\n",
        "    # Compute the padding needed to center the resized image on the canvas\n",
        "    pad_x = (target_w - new_dimensions[0]) // 2\n",
        "    pad_y = (target_h - new_dimensions[1]) // 2\n",
        "\n",
        "    # Paste the resized image onto the canvas\n",
        "    canvas[pad_y:pad_y + new_dimensions[1], pad_x:pad_x + new_dimensions[0]] = resized_image\n",
        "\n",
        "    return canvas"
      ],
      "metadata": {
        "id": "on2bO1R8TIDO"
      },
      "execution_count": null,
      "outputs": []
    }
  ]
}