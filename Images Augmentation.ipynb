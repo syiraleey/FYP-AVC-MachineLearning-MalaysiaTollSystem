{
  "cells": [
    {
      "cell_type": "code",
      "execution_count": null,
      "metadata": {
        "colab": {
          "base_uri": "https://localhost:8080/"
        },
        "id": "RfgJtYjismU7",
        "outputId": "1a34cbba-265f-4d3d-a94a-071346a921f8"
      },
      "outputs": [
        {
          "output_type": "stream",
          "name": "stdout",
          "text": [
            "/content\n",
            "Mounted at /content/drive\n"
          ]
        }
      ],
      "source": [
        "%cd /content\n",
        "\n",
        "import os\n",
        "from PIL import Image, ImageEnhance\n",
        "import xml.etree.ElementTree as ET\n",
        "from google.colab import drive\n",
        "\n",
        "# Mount Google Drive\n",
        "drive.mount('/content/drive')"
      ]
    },
    {
      "cell_type": "code",
      "source": [
        "# Augmentation - Brightness and Contrast Adjustment: Sunny\n",
        "\n",
        "import os\n",
        "from PIL import Image, ImageEnhance\n",
        "import shutil\n",
        "\n",
        "input_folder = '/content/drive/MyDrive/RescaledImages/VehicleDatasets/car/images'\n",
        "labels_folder = '/content/drive/MyDrive/RescaledImages/VehicleDatasets/car/labels'\n",
        "output_folder = '/content/drive/MyDrive/RescaledImages/VehicleDatasets/car/cont_newcar'\n",
        "\n",
        "# Ensure the output folder exists\n",
        "os.makedirs(output_folder, exist_ok=True)\n",
        "\n",
        "# Enhancement factors for brightness and contrast\n",
        "brightness_factor = 1.5  # Adjust as needed\n",
        "contrast_factor = 1.5  # Adjust as needed\n",
        "\n",
        "# Counter for processed images\n",
        "processed_images = 0\n",
        "\n",
        "for image_name in os.listdir(input_folder):\n",
        "    if image_name.endswith('.jpg'):\n",
        "        # Load the original image\n",
        "        image_path = os.path.join(input_folder, image_name)\n",
        "        image = Image.open(image_path)\n",
        "\n",
        "        # Adjust brightness and contrast\n",
        "        enhancer = ImageEnhance.Brightness(image)\n",
        "        image = enhancer.enhance(brightness_factor)\n",
        "\n",
        "        enhancer = ImageEnhance.Contrast(image)\n",
        "        image = enhancer.enhance(contrast_factor)\n",
        "\n",
        "        # Save the adjusted image with 'cont' prefix in JPG format\n",
        "        output_name = 'cont_' + image_name\n",
        "        output_path = os.path.join(output_folder, output_name)\n",
        "        image.save(output_path, 'JPEG')\n",
        "\n",
        "        # Copy the content from the original TXT file to the new TXT file\n",
        "        txt_name = os.path.splitext(image_name)[0] + '.txt'\n",
        "        txt_path = os.path.join(labels_folder, txt_name)\n",
        "        if os.path.exists(txt_path):\n",
        "            shutil.copy(txt_path, os.path.join(output_folder, 'cont_' + txt_name))\n",
        "\n",
        "        processed_images += 1\n",
        "\n",
        "# Print the number of processed images\n",
        "print(\"Brightness and Contrast adjustments applied to\", processed_images, \"images.\")"
      ],
      "metadata": {
        "colab": {
          "base_uri": "https://localhost:8080/"
        },
        "id": "MJkkyAZu-20a",
        "outputId": "7c154543-ba4b-4722-cb43-bfdc5f6abf22"
      },
      "execution_count": null,
      "outputs": [
        {
          "output_type": "stream",
          "name": "stdout",
          "text": [
            "Brightness and Contrast adjustments applied to 195 images.\n"
          ]
        }
      ]
    },
    {
      "cell_type": "code",
      "source": [
        "# Blur\n",
        "\n",
        "import cv2\n",
        "import os\n",
        "import shutil\n",
        "\n",
        "input_folder = '/content/drive/MyDrive/RescaledImages/VehicleDatasets/car/images'\n",
        "labels_folder = '/content/drive/MyDrive/RescaledImages/VehicleDatasets/car/labels'\n",
        "output_folder = '/content/drive/MyDrive/RescaledImages/VehicleDatasets/car/blur_newcar'\n",
        "\n",
        "# Ensure the output folder exists\n",
        "os.makedirs(output_folder, exist_ok=True)\n",
        "\n",
        "# Counter for processed images\n",
        "processed_images = 0\n",
        "\n",
        "for image_name in os.listdir(input_folder):\n",
        "    if image_name.endswith('.jpg'):\n",
        "        # Load the original image from the input folder\n",
        "        image_path = os.path.join(input_folder, image_name)\n",
        "        image = cv2.imread(image_path)\n",
        "\n",
        "        # Apply Gaussian blur\n",
        "        blurred = cv2.GaussianBlur(image, (5, 5), 0)\n",
        "\n",
        "        # Save the blurred image with 'blur' prefix in JPG format\n",
        "        output_name = 'blur_' + image_name\n",
        "        output_path = os.path.join(output_folder, output_name)\n",
        "        cv2.imwrite(output_path, blurred)\n",
        "\n",
        "        # Copy the content from the original TXT file to the new TXT file\n",
        "        txt_name = os.path.splitext(image_name)[0] + '.txt'\n",
        "        txt_path = os.path.join(labels_folder, txt_name)\n",
        "        if os.path.exists(txt_path):\n",
        "            shutil.copy(txt_path, os.path.join(output_folder, 'blur_' + txt_name))\n",
        "\n",
        "        processed_images += 1\n",
        "\n",
        "# Print the number of processed images\n",
        "print(\"Blur applied to\", processed_images, \"images.\")"
      ],
      "metadata": {
        "colab": {
          "base_uri": "https://localhost:8080/"
        },
        "id": "BuqCc8YwGiNv",
        "outputId": "37e1da85-66df-4958-f938-5beeb5c58207"
      },
      "execution_count": null,
      "outputs": [
        {
          "output_type": "stream",
          "name": "stdout",
          "text": [
            "Blur applied to 195 images.\n"
          ]
        }
      ]
    },
    {
      "cell_type": "code",
      "source": [
        "# Augmentation : Night\n",
        "\n",
        "import cv2\n",
        "import os\n",
        "import numpy as np\n",
        "\n",
        "input_folder = '/content/drive/MyDrive/RescaledImages/VehicleDatasets/car/images'\n",
        "labels_folder = '/content/drive/MyDrive/RescaledImages/VehicleDatasets/car/labels'\n",
        "output_folder = '/content/drive/MyDrive/RescaledImages/VehicleDatasets/car/night_newcar'\n",
        "\n",
        "# Ensure the output folder exists\n",
        "os.makedirs(output_folder, exist_ok=True)\n",
        "\n",
        "# Counter for processed images\n",
        "processed_images = 0\n",
        "\n",
        "for image_name in os.listdir(input_folder):\n",
        "    if image_name.endswith('.jpg'):\n",
        "        # Load the original image from the input folder\n",
        "        image_path = os.path.join(input_folder, image_name)\n",
        "        image = cv2.imread(image_path)\n",
        "\n",
        "        # Simulate low-light conditions: reduce brightness\n",
        "        alpha = 0.5  # Adjust as needed\n",
        "        dark_image = cv2.multiply(image, np.array([alpha]))\n",
        "\n",
        "        # Save the augmented image with 'night' prefix in JPG format\n",
        "        output_name = 'night_' + image_name\n",
        "        output_path = os.path.join(output_folder, output_name)\n",
        "        cv2.imwrite(output_path, dark_image)\n",
        "\n",
        "        # Copy the content from the original TXT file to the new TXT file\n",
        "        txt_name = os.path.splitext(image_name)[0] + '.txt'\n",
        "        txt_path = os.path.join(labels_folder, txt_name)\n",
        "        if os.path.exists(txt_path):\n",
        "            shutil.copy(txt_path, os.path.join(output_folder, 'night_' + txt_name))\n",
        "\n",
        "        processed_images += 1\n",
        "\n",
        "# Print the number of processed images\n",
        "print(\"Night augmentation applied to\", processed_images, \"images.\")"
      ],
      "metadata": {
        "colab": {
          "base_uri": "https://localhost:8080/"
        },
        "id": "vtIleqvhIOld",
        "outputId": "8e620129-6871-443d-be6f-9883e3090a9b"
      },
      "execution_count": null,
      "outputs": [
        {
          "output_type": "stream",
          "name": "stdout",
          "text": [
            "Night augmentation applied to 195 images.\n"
          ]
        }
      ]
    }
  ],
  "metadata": {
    "colab": {
      "provenance": []
    },
    "kernelspec": {
      "display_name": "Python 3",
      "name": "python3"
    },
    "language_info": {
      "name": "python"
    }
  },
  "nbformat": 4,
  "nbformat_minor": 0
}